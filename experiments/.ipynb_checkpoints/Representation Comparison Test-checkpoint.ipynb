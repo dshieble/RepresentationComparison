{
 "cells": [
  {
   "cell_type": "code",
   "execution_count": 1,
   "metadata": {},
   "outputs": [],
   "source": [
    "%load_ext autoreload\n",
    "%autoreload 2\n",
    "%matplotlib inline\n",
    "\n",
    "import os\n",
    "os.environ[\"CUDA_VISIBLE_DEVICES\"] = \"0\"\n",
    "\n",
    "import tensorflow as tf\n",
    "import matplotlib.pyplot as plt\n",
    "from sklearn.metrics import roc_auc_score, precision_score, recall_score, accuracy_score\n",
    "from scipy.stats import spearmanr,pearsonr\n",
    "from tqdm import tqdm\n",
    "import threading\n",
    "import time\n",
    "import numpy as np\n",
    "import pandas as pd\n",
    "from sklearn.neighbors import NearestNeighbors\n",
    "import logging\n",
    "import sys\n",
    "from scipy.sparse.linalg import svds\n",
    "from scipy.sparse import csr_matrix, csc_matrix\n",
    "\n",
    "import implicit\n",
    "from collections import Counter\n",
    "from sklearn.cross_decomposition import CCA\n",
    "import sys\n",
    "import logging\n",
    "logging.getLogger().setLevel(\"DEBUG\")\n",
    "sys.path.append(\"..\")\n"
   ]
  },
  {
   "cell_type": "code",
   "execution_count": null,
   "metadata": {},
   "outputs": [],
   "source": [
    "from embeddingcomp.neighbors import get_neighbors_table, jaccard\n",
    "embeddings = np.random.random((1000, 100))\n",
    "\n",
    "annoy_table =  get_neighbors_table(embeddings, \"annoy\", ntrees=1000, search_multiplier=100000)\n",
    "brute_table =  get_neighbors_table(embeddings, \"brute\")\n",
    "\n",
    "annoy_neighbors = annoy_table.get_neighbors(10, 10)\n",
    "brute_neighbors = brute_table.get_neighbors(10, 10)\n",
    "jaccard(annoy_neighbors, brute_neighbors)\n"
   ]
  },
  {
   "cell_type": "code",
   "execution_count": 46,
   "metadata": {
    "scrolled": true
   },
   "outputs": [
    {
     "data": {
      "text/plain": [
       "[108,\n",
       " 286,\n",
       " 260,\n",
       " 411,\n",
       " 203,\n",
       " 438,\n",
       " 437,\n",
       " 95,\n",
       " 157,\n",
       " 144,\n",
       " 265,\n",
       " 104,\n",
       " 378,\n",
       " 384,\n",
       " 288,\n",
       " 488,\n",
       " 428,\n",
       " 307,\n",
       " 251,\n",
       " 171,\n",
       " 184,\n",
       " 3,\n",
       " 139,\n",
       " 405,\n",
       " 137,\n",
       " 342,\n",
       " 389,\n",
       " 205,\n",
       " 237,\n",
       " 70,\n",
       " 458,\n",
       " 146,\n",
       " 356,\n",
       " 221,\n",
       " 498,\n",
       " 13,\n",
       " 464,\n",
       " 231,\n",
       " 163,\n",
       " 284,\n",
       " 69,\n",
       " 4,\n",
       " 122,\n",
       " 72,\n",
       " 357,\n",
       " 111,\n",
       " 279,\n",
       " 387,\n",
       " 229,\n",
       " 407,\n",
       " 439,\n",
       " 395,\n",
       " 475,\n",
       " 188,\n",
       " 71,\n",
       " 338,\n",
       " 2,\n",
       " 151,\n",
       " 347,\n",
       " 94,\n",
       " 17,\n",
       " 339,\n",
       " 112,\n",
       " 106,\n",
       " 14,\n",
       " 435,\n",
       " 301,\n",
       " 58,\n",
       " 386,\n",
       " 80,\n",
       " 420,\n",
       " 323,\n",
       " 362,\n",
       " 210,\n",
       " 118,\n",
       " 433,\n",
       " 272,\n",
       " 393,\n",
       " 452,\n",
       " 382,\n",
       " 49,\n",
       " 158,\n",
       " 121,\n",
       " 398,\n",
       " 198,\n",
       " 201,\n",
       " 426,\n",
       " 494,\n",
       " 318,\n",
       " 394,\n",
       " 40,\n",
       " 472,\n",
       " 160,\n",
       " 264,\n",
       " 365,\n",
       " 352,\n",
       " 73,\n",
       " 396,\n",
       " 345,\n",
       " 401]"
      ]
     },
     "execution_count": 46,
     "metadata": {},
     "output_type": "execute_result"
    }
   ],
   "source": [
    "annoy_neighbors"
   ]
  },
  {
   "cell_type": "code",
   "execution_count": 19,
   "metadata": {},
   "outputs": [
    {
     "data": {
      "text/plain": [
       "[324, 724, 693, 197, 732, 487, 481, 205, 799, 556]"
      ]
     },
     "execution_count": 19,
     "metadata": {},
     "output_type": "execute_result"
    }
   ],
   "source": [
    "brute_neighbors"
   ]
  },
  {
   "cell_type": "code",
   "execution_count": null,
   "metadata": {},
   "outputs": [],
   "source": []
  },
  {
   "cell_type": "code",
   "execution_count": 8,
   "metadata": {
    "scrolled": true
   },
   "outputs": [
    {
     "name": "stderr",
     "output_type": "stream",
     "text": [
      "\n",
      "KeyboardInterrupt\n",
      "\n"
     ]
    }
   ],
   "source": [
    "from embeddingcomp.comparison import CCAComparison, UnitMatchComparison, NeighborsComparison\n",
    "\n",
    "# Test the embedding comparisons\n",
    "transformer = np.random.random((100, 100))\n",
    "\n",
    "embeddings_1 = np.random.random((10000, 100))\n",
    "embeddings_2 = np.dot(embeddings_1, transformer) + np.random.random((10000, 100))\n",
    "\n",
    "# comparator = UnitMatchComparison()\n",
    "# print(comparator.run_comparison(embeddings_1, embeddings_2)['similarity'])\n",
    "\n",
    "# comparator = NeighborsComparison()\n",
    "# print(comparator.run_comparison(embeddings_1, embeddings_2)['similarity'])\n",
    "\n",
    "# comparator = CCAComparison()\n",
    "# print(comparator.run_comparison(embeddings_1, embeddings_2)['similarity'])\n",
    "\n",
    "# comparator = CCAComparison(pca_components=10)\n",
    "# print(comparator.run_comparison(embeddings_1, embeddings_2)['similarity'])\n",
    "\n",
    "comparator = NeighborsComparison(nn_method=\"brute\")\n",
    "print(comparator.run_comparison(embeddings_1, embeddings_2)['similarity'])\n"
   ]
  },
  {
   "cell_type": "code",
   "execution_count": null,
   "metadata": {},
   "outputs": [],
   "source": []
  },
  {
   "cell_type": "code",
   "execution_count": null,
   "metadata": {},
   "outputs": [],
   "source": []
  }
 ],
 "metadata": {
  "kernelspec": {
   "display_name": "Python 3",
   "language": "python",
   "name": "python3"
  },
  "language_info": {
   "codemirror_mode": {
    "name": "ipython",
    "version": 3
   },
   "file_extension": ".py",
   "mimetype": "text/x-python",
   "name": "python",
   "nbconvert_exporter": "python",
   "pygments_lexer": "ipython3",
   "version": "3.6.5"
  }
 },
 "nbformat": 4,
 "nbformat_minor": 2
}
