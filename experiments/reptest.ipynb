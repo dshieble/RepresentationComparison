{
 "cells": [
  {
   "cell_type": "code",
   "execution_count": 4,
   "metadata": {},
   "outputs": [
    {
     "name": "stdout",
     "output_type": "stream",
     "text": [
      "The autoreload extension is already loaded. To reload it, use:\n",
      "  %reload_ext autoreload\n"
     ]
    }
   ],
   "source": [
    "%load_ext autoreload\n",
    "%autoreload 2\n",
    "%matplotlib inline\n",
    "\n",
    "import os\n",
    "os.environ[\"CUDA_VISIBLE_DEVICES\"] = \"0\"\n",
    "\n",
    "import tensorflow as tf\n",
    "import matplotlib.pyplot as plt\n",
    "from sklearn.metrics import roc_auc_score, precision_score, recall_score, accuracy_score\n",
    "from scipy.stats import spearmanr,pearsonr\n",
    "from tqdm import tqdm\n",
    "import threading\n",
    "import time\n",
    "import numpy as np\n",
    "import pandas as pd\n",
    "from sklearn.neighbors import NearestNeighbors\n",
    "import logging\n",
    "import sys\n",
    "from scipy.sparse.linalg import svds\n",
    "from scipy.sparse import csr_matrix, csc_matrix\n",
    "\n",
    "import implicit\n",
    "from collections import Counter\n",
    "from sklearn.cross_decomposition import CCA\n",
    "import sys\n",
    "import logging\n",
    "logging.getLogger().setLevel(\"DEBUG\")\n"
   ]
  },
  {
   "cell_type": "code",
   "execution_count": 14,
   "metadata": {
    "scrolled": true
   },
   "outputs": [],
   "source": [
    "from scipy.spatial.distance import cdist\n",
    "permuter = np.random.permutation(range(100))\n",
    "embeddings = np.random.random((1000, 100))\n",
    "perm_embeddings = np.vstack([embed[permuter] for embed in embeddings])\n",
    "sims = 1 - cdist(embeddings.T, perm_embeddings.T, metric=\"correlation\")"
   ]
  },
  {
   "cell_type": "code",
   "execution_count": 25,
   "metadata": {},
   "outputs": [],
   "source": [
    "matches = np.argmax(sims, axis=1)"
   ]
  },
  {
   "cell_type": "code",
   "execution_count": 27,
   "metadata": {
    "scrolled": true
   },
   "outputs": [
    {
     "data": {
      "text/plain": [
       "1.0"
      ]
     },
     "execution_count": 27,
     "metadata": {},
     "output_type": "execute_result"
    }
   ],
   "source": [
    "np.mean([sims[i][matches[i]] for i in range(sims.shape[0])])"
   ]
  },
  {
   "cell_type": "code",
   "execution_count": null,
   "metadata": {},
   "outputs": [],
   "source": []
  },
  {
   "cell_type": "code",
   "execution_count": null,
   "metadata": {},
   "outputs": [],
   "source": [
    "from embeddingcomp.neighbors import get_neighbors_table, jaccard\n",
    "embeddings = np.random.random((1000, 100))\n",
    "\n",
    "annoy_table =  get_neighbors_table(embeddings, \"annoy\", ntrees=1000, search_multiplier=100000)\n",
    "brute_table =  get_neighbors_table(embeddings, \"brute\")\n",
    "\n",
    "annoy_neighbors = annoy_table.get_neighbors(10, 10)\n",
    "brute_neighbors = brute_table.get_neighbors(10, 10)\n",
    "jaccard(annoy_neighbors, brute_neighbors)\n"
   ]
  },
  {
   "cell_type": "code",
   "execution_count": 19,
   "metadata": {},
   "outputs": [
    {
     "data": {
      "text/plain": [
       "[324, 724, 693, 197, 732, 487, 481, 205, 799, 556]"
      ]
     },
     "execution_count": 19,
     "metadata": {},
     "output_type": "execute_result"
    }
   ],
   "source": [
    "brute_neighbors"
   ]
  },
  {
   "cell_type": "code",
   "execution_count": null,
   "metadata": {},
   "outputs": [],
   "source": []
  },
  {
   "cell_type": "code",
   "execution_count": 8,
   "metadata": {
    "scrolled": true
   },
   "outputs": [
    {
     "name": "stderr",
     "output_type": "stream",
     "text": [
      "\n",
      "KeyboardInterrupt\n",
      "\n"
     ]
    }
   ],
   "source": [
    "from embeddingcomp.comparison import CCAComparison, UnitMatchComparison, NeighborsComparison\n",
    "\n",
    "# Test the embedding comparisons\n",
    "transformer = np.random.random((100, 100))\n",
    "\n",
    "embeddings_1 = np.random.random((10000, 100))\n",
    "embeddings_2 = np.dot(embeddings_1, transformer) + np.random.random((10000, 100))\n",
    "\n",
    "# comparator = UnitMatchComparison()\n",
    "# print(comparator.run_comparison(embeddings_1, embeddings_2)['similarity'])\n",
    "\n",
    "# comparator = NeighborsComparison()\n",
    "# print(comparator.run_comparison(embeddings_1, embeddings_2)['similarity'])\n",
    "\n",
    "# comparator = CCAComparison()\n",
    "# print(comparator.run_comparison(embeddings_1, embeddings_2)['similarity'])\n",
    "\n",
    "# comparator = CCAComparison(pca_components=10)\n",
    "# print(comparator.run_comparison(embeddings_1, embeddings_2)['similarity'])\n",
    "\n",
    "comparator = NeighborsComparison(nn_method=\"brute\")\n",
    "print(comparator.run_comparison(embeddings_1, embeddings_2)['similarity'])\n"
   ]
  },
  {
   "cell_type": "code",
   "execution_count": null,
   "metadata": {},
   "outputs": [],
   "source": []
  },
  {
   "cell_type": "code",
   "execution_count": null,
   "metadata": {},
   "outputs": [],
   "source": []
  }
 ],
 "metadata": {
  "kernelspec": {
   "display_name": "Python 3",
   "language": "python",
   "name": "python3"
  },
  "language_info": {
   "codemirror_mode": {
    "name": "ipython",
    "version": 3
   },
   "file_extension": ".py",
   "mimetype": "text/x-python",
   "name": "python",
   "nbconvert_exporter": "python",
   "pygments_lexer": "ipython3",
   "version": "3.6.5"
  }
 },
 "nbformat": 4,
 "nbformat_minor": 2
}
